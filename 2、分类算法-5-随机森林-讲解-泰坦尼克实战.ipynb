{
 "cells": [
  {
   "cell_type": "markdown",
   "metadata": {},
   "source": [
    "## 训练集：N个样本/M个特征"
   ]
  },
  {
   "cell_type": "code",
   "execution_count": null,
   "metadata": {},
   "outputs": [],
   "source": [
    "# 训练集随机 - N个样本中随机有放回的抽样N个\n",
    "# Bootstrap 随机有放回抽样\n",
    "# [1, 2, 3, 4, 5]\n",
    "# 新的树的训练集\n",
    "# [2, 2, 3, 1, 5]\n",
    "\n",
    "# 特征随机 - 从M个特征中随机抽取m个特征\n",
    "# M >> m\n",
    "# 降维"
   ]
  },
  {
   "cell_type": "markdown",
   "metadata": {},
   "source": [
    "## 参数\n",
    "RandomForestClassifier()\n",
    "\n",
    "n_estimators 随机森林里决策树的个数，默认是10\n",
    "\n",
    "criterion 决策树分裂的标准，默认是基尼指数（cart），也可以选择entropy（id3）\n",
    "\n",
    "max_depth 决策树最大深度，默认是none，不限制，也可以自行限制\n",
    "\n",
    "n_jobs 拟合和预测的时候CPU核数"
   ]
  },
  {
   "cell_type": "code",
   "execution_count": 6,
   "metadata": {},
   "outputs": [],
   "source": [
    "# 1、获取数据\n",
    "import pandas as pd\n",
    "\n",
    "data = pd.read_csv('/Users/zhangqihao/Desktop/PYTHON/机器学习/机器学习资料2/02-代码/titanic.csv')"
   ]
  },
  {
   "cell_type": "code",
   "execution_count": 7,
   "metadata": {},
   "outputs": [],
   "source": [
    "# 2、数据处理\n",
    "\n",
    "x = data[[\"pclass\", \"age\", \"sex\"]]\n",
    "y = data[\"survived\"]"
   ]
  },
  {
   "cell_type": "code",
   "execution_count": 8,
   "metadata": {},
   "outputs": [],
   "source": [
    "# 缺失值处理\n",
    "x[\"age\"].fillna(x[\"age\"].mean(), inplace=True)"
   ]
  },
  {
   "cell_type": "code",
   "execution_count": 9,
   "metadata": {},
   "outputs": [],
   "source": [
    "# 特征值->字典类型\n",
    "x = x.to_dict(orient=\"records\")"
   ]
  },
  {
   "cell_type": "code",
   "execution_count": 10,
   "metadata": {},
   "outputs": [],
   "source": [
    "# 3、数据集划分\n",
    "from sklearn.model_selection import train_test_split\n",
    "\n",
    "x_train, x_test, y_train, y_test  = train_test_split(x, y, random_state = 2)"
   ]
  },
  {
   "cell_type": "code",
   "execution_count": 11,
   "metadata": {},
   "outputs": [],
   "source": [
    "# 4、字典特征抽取\n",
    "from sklearn.feature_extraction import DictVectorizer\n",
    "from sklearn.tree import DecisionTreeClassifier\n",
    "\n",
    "transfer = DictVectorizer()\n",
    "x_train = transfer.fit_transform(x_train)\n",
    "x_test = transfer.transform(x_test)"
   ]
  },
  {
   "cell_type": "code",
   "execution_count": 13,
   "metadata": {},
   "outputs": [
    {
     "data": {
      "text/plain": [
       "GridSearchCV(cv=3, error_score='raise-deprecating',\n",
       "             estimator=RandomForestClassifier(bootstrap=True, class_weight=None,\n",
       "                                              criterion='gini', max_depth=None,\n",
       "                                              max_features='auto',\n",
       "                                              max_leaf_nodes=None,\n",
       "                                              min_impurity_decrease=0.0,\n",
       "                                              min_impurity_split=None,\n",
       "                                              min_samples_leaf=1,\n",
       "                                              min_samples_split=2,\n",
       "                                              min_weight_fraction_leaf=0.0,\n",
       "                                              n_estimators='warn', n_jobs=None,\n",
       "                                              oob_score=False,\n",
       "                                              random_state=None, verbose=0,\n",
       "                                              warm_start=False),\n",
       "             iid='warn', n_jobs=None,\n",
       "             param_grid={'max_depth': [5, 8, 15, 25, 30],\n",
       "                         'n_estimators': [120, 200, 300, 500, 800, 1200]},\n",
       "             pre_dispatch='2*n_jobs', refit=True, return_train_score=False,\n",
       "             scoring=None, verbose=0)"
      ]
     },
     "execution_count": 13,
     "metadata": {},
     "output_type": "execute_result"
    }
   ],
   "source": [
    "# 5、随机森林/网格搜索\n",
    "from sklearn.ensemble import RandomForestClassifier\n",
    "from sklearn.model_selection import GridSearchCV\n",
    "\n",
    "estimator = RandomForestClassifier()\n",
    "param_dict = {\"n_estimators\":[120,200,300,500,800,1200],\n",
    "              \"max_depth\":[5,8,15,25,30]}\n",
    "estimator = GridSearchCV(estimator, param_grid=param_dict, cv=3)\n",
    "estimator.fit(x_train, y_train)"
   ]
  },
  {
   "cell_type": "code",
   "execution_count": 14,
   "metadata": {},
   "outputs": [
    {
     "name": "stdout",
     "output_type": "stream",
     "text": [
      "y_predict:\n",
      " [0 0 0 0 0 0 0 0 1 0 0 0 0 0 0 0 1 0 0 0 0 0 0 0 0 0 1 0 1 0 0 0 1 0 0 0 0\n",
      " 0 0 0 0 0 0 1 0 0 1 1 0 1 0 1 1 0 0 0 0 0 0 0 0 0 0 0 1 0 0 1 1 0 0 0 0 0\n",
      " 0 0 0 1 0 0 0 0 0 1 1 0 0 0 0 0 0 0 1 0 1 0 1 0 0 0 0 0 0 1 1 0 0 0 0 0 0\n",
      " 0 1 0 0 0 0 0 0 0 0 0 0 0 1 0 0 0 1 1 0 0 0 1 1 0 0 0 0 1 0 0 1 0 1 0 0 1\n",
      " 0 0 0 0 0 0 1 0 0 0 0 0 1 0 0 0 0 0 0 0 1 0 1 0 0 0 0 0 1 0 0 1 0 1 0 0 1\n",
      " 0 0 0 0 1 0 0 0 1 0 0 0 1 0 0 0 1 0 1 0 0 0 0 0 0 0 0 0 0 1 0 0 0 0 0 0 1\n",
      " 0 0 1 0 0 1 1 0 0 0 0 0 0 1 1 0 0 0 0 0 0 0 0 1 0 1 1 0 0 1 0 0 0 0 1 0 0\n",
      " 0 0 0 0 0 0 0 1 0 0 1 1 0 0 0 0 0 1 1 0 0 0 0 0 1 0 0 0 1 0 0 0 0 0 1 1 0\n",
      " 1 0 0 0 0 0 0 0 0 0 0 0 0 1 0 1 0 0 0 0 0 0 0 0 1 0 0 0 0 0 0 0 0]\n",
      "直接比对真实值和预测值:\n",
      " 811     True\n",
      "681     True\n",
      "757     True\n",
      "1223    True\n",
      "846     True\n",
      "        ... \n",
      "874     True\n",
      "322     True\n",
      "707     True\n",
      "740     True\n",
      "705     True\n",
      "Name: survived, Length: 329, dtype: bool\n",
      "准确率为:\n",
      " 0.8206686930091185\n",
      "最佳参数：/n {'max_depth': 5, 'n_estimators': 200}\n",
      "最佳结果：/n 0.8262195121951219\n",
      "最佳估计器：/n RandomForestClassifier(bootstrap=True, class_weight=None, criterion='gini',\n",
      "                       max_depth=5, max_features='auto', max_leaf_nodes=None,\n",
      "                       min_impurity_decrease=0.0, min_impurity_split=None,\n",
      "                       min_samples_leaf=1, min_samples_split=2,\n",
      "                       min_weight_fraction_leaf=0.0, n_estimators=200,\n",
      "                       n_jobs=None, oob_score=False, random_state=None,\n",
      "                       verbose=0, warm_start=False)\n",
      "交叉验证结果：/n {'mean_fit_time': array([0.14199471, 0.23447553, 0.36228244, 0.5974342 , 0.93258746,\n",
      "       1.35575104, 0.15807382, 0.27276778, 0.41263898, 0.69126495,\n",
      "       1.10570304, 1.63537272, 0.16884812, 0.28715754, 0.42679262,\n",
      "       0.7059118 , 1.13589708, 1.71426209, 0.16644907, 0.27846336,\n",
      "       0.43186108, 0.71630311, 1.14083735, 1.751743  , 0.18324184,\n",
      "       0.2969981 , 0.45391742, 0.74867845, 1.17146174, 1.68340802]), 'std_fit_time': array([0.00449647, 0.00358578, 0.00434085, 0.01018309, 0.01279311,\n",
      "       0.00631438, 0.00285465, 0.02544104, 0.00201571, 0.00071706,\n",
      "       0.01293089, 0.01238874, 0.00189437, 0.00410461, 0.01505092,\n",
      "       0.02526771, 0.01582196, 0.04967225, 0.00585419, 0.00415252,\n",
      "       0.00540866, 0.00964961, 0.01924366, 0.02015952, 0.00243583,\n",
      "       0.002679  , 0.01276039, 0.00332751, 0.04624722, 0.02629911]), 'mean_score_time': array([0.00983071, 0.01576447, 0.02503085, 0.03846908, 0.05964152,\n",
      "       0.0884947 , 0.01015615, 0.01741171, 0.02601194, 0.04176108,\n",
      "       0.06908369, 0.10268672, 0.01156664, 0.01894705, 0.02764201,\n",
      "       0.04264871, 0.070556  , 0.10609293, 0.01081125, 0.01805321,\n",
      "       0.02615563, 0.04448994, 0.06863364, 0.12859567, 0.01217175,\n",
      "       0.01917299, 0.0292027 , 0.04477835, 0.07033269, 0.10156838]), 'std_score_time': array([0.00071303, 0.00060554, 0.00055687, 0.00146421, 0.00170134,\n",
      "       0.0018587 , 0.00049241, 0.00140971, 0.00094271, 0.00038337,\n",
      "       0.00230141, 0.00188296, 0.00083333, 0.0011109 , 0.0022344 ,\n",
      "       0.00064882, 0.00164533, 0.00187218, 0.00031329, 0.00011601,\n",
      "       0.00081686, 0.00102306, 0.00196344, 0.02245562, 0.00036379,\n",
      "       0.00027651, 0.00190124, 0.00041626, 0.00250026, 0.00463325]), 'param_max_depth': masked_array(data=[5, 5, 5, 5, 5, 5, 8, 8, 8, 8, 8, 8, 15, 15, 15, 15, 15,\n",
      "                   15, 25, 25, 25, 25, 25, 25, 30, 30, 30, 30, 30, 30],\n",
      "             mask=[False, False, False, False, False, False, False, False,\n",
      "                   False, False, False, False, False, False, False, False,\n",
      "                   False, False, False, False, False, False, False, False,\n",
      "                   False, False, False, False, False, False],\n",
      "       fill_value='?',\n",
      "            dtype=object), 'param_n_estimators': masked_array(data=[120, 200, 300, 500, 800, 1200, 120, 200, 300, 500, 800,\n",
      "                   1200, 120, 200, 300, 500, 800, 1200, 120, 200, 300,\n",
      "                   500, 800, 1200, 120, 200, 300, 500, 800, 1200],\n",
      "             mask=[False, False, False, False, False, False, False, False,\n",
      "                   False, False, False, False, False, False, False, False,\n",
      "                   False, False, False, False, False, False, False, False,\n",
      "                   False, False, False, False, False, False],\n",
      "       fill_value='?',\n",
      "            dtype=object), 'params': [{'max_depth': 5, 'n_estimators': 120}, {'max_depth': 5, 'n_estimators': 200}, {'max_depth': 5, 'n_estimators': 300}, {'max_depth': 5, 'n_estimators': 500}, {'max_depth': 5, 'n_estimators': 800}, {'max_depth': 5, 'n_estimators': 1200}, {'max_depth': 8, 'n_estimators': 120}, {'max_depth': 8, 'n_estimators': 200}, {'max_depth': 8, 'n_estimators': 300}, {'max_depth': 8, 'n_estimators': 500}, {'max_depth': 8, 'n_estimators': 800}, {'max_depth': 8, 'n_estimators': 1200}, {'max_depth': 15, 'n_estimators': 120}, {'max_depth': 15, 'n_estimators': 200}, {'max_depth': 15, 'n_estimators': 300}, {'max_depth': 15, 'n_estimators': 500}, {'max_depth': 15, 'n_estimators': 800}, {'max_depth': 15, 'n_estimators': 1200}, {'max_depth': 25, 'n_estimators': 120}, {'max_depth': 25, 'n_estimators': 200}, {'max_depth': 25, 'n_estimators': 300}, {'max_depth': 25, 'n_estimators': 500}, {'max_depth': 25, 'n_estimators': 800}, {'max_depth': 25, 'n_estimators': 1200}, {'max_depth': 30, 'n_estimators': 120}, {'max_depth': 30, 'n_estimators': 200}, {'max_depth': 30, 'n_estimators': 300}, {'max_depth': 30, 'n_estimators': 500}, {'max_depth': 30, 'n_estimators': 800}, {'max_depth': 30, 'n_estimators': 1200}], 'split0_test_score': array([0.83890578, 0.83890578, 0.83890578, 0.83890578, 0.83890578,\n",
      "       0.84194529, 0.82674772, 0.82370821, 0.82370821, 0.82370821,\n",
      "       0.82674772, 0.82370821, 0.82066869, 0.81762918, 0.81762918,\n",
      "       0.82066869, 0.82066869, 0.81458967, 0.82066869, 0.82370821,\n",
      "       0.81458967, 0.82370821, 0.82066869, 0.82370821, 0.81762918,\n",
      "       0.82370821, 0.82370821, 0.82066869, 0.82370821, 0.81458967]), 'split1_test_score': array([0.81097561, 0.81402439, 0.80182927, 0.80792683, 0.81097561,\n",
      "       0.80487805, 0.78963415, 0.78658537, 0.78658537, 0.78658537,\n",
      "       0.78658537, 0.78658537, 0.78658537, 0.78963415, 0.78963415,\n",
      "       0.78963415, 0.78963415, 0.79268293, 0.78963415, 0.78963415,\n",
      "       0.79268293, 0.79268293, 0.78963415, 0.78963415, 0.78353659,\n",
      "       0.78963415, 0.78963415, 0.78963415, 0.78963415, 0.78963415]), 'split2_test_score': array([0.82568807, 0.82568807, 0.83180428, 0.82874618, 0.82874618,\n",
      "       0.82874618, 0.81345566, 0.81345566, 0.81345566, 0.81345566,\n",
      "       0.81345566, 0.81345566, 0.81651376, 0.80733945, 0.81039755,\n",
      "       0.81651376, 0.81345566, 0.81345566, 0.80428135, 0.81039755,\n",
      "       0.81039755, 0.80733945, 0.81039755, 0.81039755, 0.80428135,\n",
      "       0.81651376, 0.81039755, 0.81345566, 0.81651376, 0.81039755]), 'mean_test_score': array([0.82520325, 0.82621951, 0.82418699, 0.82520325, 0.82621951,\n",
      "       0.82520325, 0.80995935, 0.80792683, 0.80792683, 0.80792683,\n",
      "       0.80894309, 0.80792683, 0.80792683, 0.80487805, 0.80589431,\n",
      "       0.80894309, 0.80792683, 0.80691057, 0.80487805, 0.80792683,\n",
      "       0.80589431, 0.80792683, 0.80691057, 0.80792683, 0.80182927,\n",
      "       0.80995935, 0.80792683, 0.80792683, 0.80995935, 0.80487805]), 'std_test_score': array([0.01141624, 0.01017242, 0.01607293, 0.01290117, 0.0115495 ,\n",
      "       0.01534903, 0.01536239, 0.0156604 , 0.0156604 , 0.0156604 ,\n",
      "       0.01671467, 0.0156604 , 0.01518573, 0.01156869, 0.01187065,\n",
      "       0.01375845, 0.01326583, 0.01007111, 0.01268643, 0.01402996,\n",
      "       0.00949733, 0.01268242, 0.01291588, 0.01402996, 0.01403585,\n",
      "       0.01466914, 0.01402996, 0.01326583, 0.01466914, 0.01091408]), 'rank_test_score': array([ 3,  1,  6,  3,  1,  3,  7, 12, 12, 12, 10, 12, 12, 27, 25, 10, 12,\n",
      "       23, 27, 12, 25, 12, 23, 12, 30,  7, 12, 12,  7, 27], dtype=int32)}\n"
     ]
    }
   ],
   "source": [
    "# 6、模型预估\n",
    "\n",
    "# 方法1:直接比对真实值和预测值\n",
    "y_predict = estimator.predict(x_test)\n",
    "\n",
    "print(\"y_predict:\\n\",y_predict)\n",
    "print(\"直接比对真实值和预测值:\\n\", y_test == y_predict)\n",
    "\n",
    "# 方法2:计算准确率\n",
    "score = estimator.score(x_test, y_test)\n",
    "print(\"准确率为:\\n\",score)\n",
    "\n",
    "# 查看参数\n",
    "\n",
    "print(\"最佳参数：/n\", estimator.best_params_)\n",
    "print(\"最佳结果：/n\", estimator.best_score_)\n",
    "print(\"最佳估计器：/n\", estimator.best_estimator_)\n",
    "print(\"交叉验证结果：/n\", estimator.cv_results_)"
   ]
  },
  {
   "cell_type": "code",
   "execution_count": null,
   "metadata": {},
   "outputs": [],
   "source": []
  }
 ],
 "metadata": {
  "kernelspec": {
   "display_name": "Python 3",
   "language": "python",
   "name": "python3"
  },
  "language_info": {
   "codemirror_mode": {
    "name": "ipython",
    "version": 3
   },
   "file_extension": ".py",
   "mimetype": "text/x-python",
   "name": "python",
   "nbconvert_exporter": "python",
   "pygments_lexer": "ipython3",
   "version": "3.7.4"
  }
 },
 "nbformat": 4,
 "nbformat_minor": 2
}
