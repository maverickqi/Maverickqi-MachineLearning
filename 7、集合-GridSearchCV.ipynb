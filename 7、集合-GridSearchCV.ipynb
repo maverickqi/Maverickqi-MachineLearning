{
 "cells": [
  {
   "cell_type": "markdown",
   "metadata": {},
   "source": [
    "## 参数\n",
    "GridSearchCV(estimator, param_grid, cv=None, scoring=None) 构造参数的自动搜索模块\n",
    "\n",
    "estimator: 代表想要采用的分类器，比如随机森林，决策树，svm，knn等\n",
    "\n",
    "param_grid: 代表想要优化的参数及取值，输入的是字典或着列表的形式\n",
    "\n",
    "cv: 交叉验证的折数，默认为none，代表使用三折交叉验证。或其他整数\n",
    "\n",
    "scoring: 准确度评价标准，默认为none，也就是需要使用score函数。也可以是accuracy, f1-score"
   ]
  },
  {
   "cell_type": "code",
   "execution_count": 2,
   "metadata": {},
   "outputs": [
    {
     "name": "stderr",
     "output_type": "stream",
     "text": [
      "/Users/zhangqihao/opt/anaconda3/lib/python3.7/site-packages/sklearn/model_selection/_split.py:1978: FutureWarning: The default value of cv will change from 3 to 5 in version 0.22. Specify it explicitly to silence this warning.\n",
      "  warnings.warn(CV_WARNING, FutureWarning)\n",
      "/Users/zhangqihao/opt/anaconda3/lib/python3.7/site-packages/sklearn/model_selection/_search.py:814: DeprecationWarning: The default of the `iid` parameter will change from True to False in version 0.22 and will be removed in 0.24. This will change numeric results when test-set sizes are unequal.\n",
      "  DeprecationWarning)\n"
     ]
    },
    {
     "name": "stdout",
     "output_type": "stream",
     "text": [
      "最优分数： 0.9733\n",
      "最优参数： {'n_estimators': 2}\n"
     ]
    }
   ],
   "source": [
    "# -*- coding: utf-8 -*-\n",
    "# 使用RandomForest对IRIS数据集进行分类\n",
    "# 利用GridSearchCV寻找最优参数\n",
    "from sklearn.ensemble import RandomForestClassifier\n",
    "from sklearn.model_selection import GridSearchCV\n",
    "from sklearn.datasets import load_iris\n",
    "\n",
    "estimator = RandomForestClassifier()\n",
    "parameters = {\"n_estimators\": range(1,11)}\n",
    "iris = load_iris()\n",
    "\n",
    "# 使用GridSearchCV进行参数调优\n",
    "clf = GridSearchCV(estimator=estimator, param_grid=parameters)\n",
    "# 对iris数据集进行分类\n",
    "clf.fit(iris.data, iris.target)\n",
    "print(\"最优分数： %.4lf\" %clf.best_score_)\n",
    "print(\"最优参数：\", clf.best_params_)"
   ]
  },
  {
   "cell_type": "code",
   "execution_count": null,
   "metadata": {},
   "outputs": [],
   "source": []
  }
 ],
 "metadata": {
  "kernelspec": {
   "display_name": "Python 3",
   "language": "python",
   "name": "python3"
  },
  "language_info": {
   "codemirror_mode": {
    "name": "ipython",
    "version": 3
   },
   "file_extension": ".py",
   "mimetype": "text/x-python",
   "name": "python",
   "nbconvert_exporter": "python",
   "pygments_lexer": "ipython3",
   "version": "3.7.4"
  }
 },
 "nbformat": 4,
 "nbformat_minor": 2
}
