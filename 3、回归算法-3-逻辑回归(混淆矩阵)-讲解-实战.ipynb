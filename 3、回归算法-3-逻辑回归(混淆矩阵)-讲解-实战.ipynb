{
 "cells": [
  {
   "cell_type": "markdown",
   "metadata": {},
   "source": [
    "## 一：逻辑回归"
   ]
  },
  {
   "cell_type": "code",
   "execution_count": 56,
   "metadata": {},
   "outputs": [],
   "source": [
    "# 线性回归的输出 就是 逻辑回归的输入\n",
    "\n",
    "# 把线性回归函数带入激活函数sigmoid中，会得到一个0～1的区间，一般默认阈值为0.5，则大于&小于0.5即可被分作两类"
   ]
  },
  {
   "cell_type": "code",
   "execution_count": 57,
   "metadata": {},
   "outputs": [],
   "source": [
    "# 1、获取数据\n",
    "import pandas as pd\n",
    "import numpy as np\n",
    "\n",
    "path = '/Users/zhangqihao/Desktop/PYTHON/机器学习/机器学习资料3/01-数据/breast-cancer-wisconsin.data'\n",
    "column_name = ['Sample code number','Clump Thickness','Uniformity of Cell Siz','Uniformity of Cell Shape',\n",
    "              'Marginal Adhesion','Single Epithelial Cell Size','Bare Nuclei','Bland Chromatin',\n",
    "              'Normal Nucleoli','Mitoses','Class']\n",
    "data = pd.read_csv(path, names = column_name)"
   ]
  },
  {
   "cell_type": "code",
   "execution_count": 58,
   "metadata": {},
   "outputs": [],
   "source": [
    "# 2、数据处理\n",
    "\n",
    "# 讲 ? 替换为 np.nan\n",
    "data = data.replace(to_replace=\"?\", value=np.nan)\n",
    "\n",
    "# 删除缺失样本\n",
    "data.dropna(inplace=True)\n",
    "\n",
    "# 检验是否含有空值？\n",
    "# data.isnull().any()"
   ]
  },
  {
   "cell_type": "code",
   "execution_count": 59,
   "metadata": {},
   "outputs": [],
   "source": [
    "# 3、划分数据集\n",
    "from sklearn.model_selection import train_test_split"
   ]
  },
  {
   "cell_type": "code",
   "execution_count": 60,
   "metadata": {},
   "outputs": [],
   "source": [
    "x = data.iloc[:,1:-1]\n",
    "y = data['Class']\n",
    "\n",
    "x_train, x_test, y_train, y_test = train_test_split(x,y)"
   ]
  },
  {
   "cell_type": "code",
   "execution_count": 61,
   "metadata": {},
   "outputs": [],
   "source": [
    "# 4、特征工程\n",
    "from sklearn.preprocessing import StandardScaler"
   ]
  },
  {
   "cell_type": "code",
   "execution_count": 62,
   "metadata": {},
   "outputs": [],
   "source": [
    "transfer = StandardScaler()\n",
    "x_train = transfer.fit_transform(x_train)\n",
    "x_test = transfer.transform(x_test)"
   ]
  },
  {
   "cell_type": "code",
   "execution_count": 63,
   "metadata": {},
   "outputs": [],
   "source": [
    "# 5、逻辑回归预估器\n",
    "from sklearn.linear_model import LogisticRegression"
   ]
  },
  {
   "cell_type": "code",
   "execution_count": 64,
   "metadata": {},
   "outputs": [
    {
     "name": "stderr",
     "output_type": "stream",
     "text": [
      "/Users/zhangqihao/opt/anaconda3/lib/python3.7/site-packages/sklearn/linear_model/logistic.py:432: FutureWarning: Default solver will be changed to 'lbfgs' in 0.22. Specify a solver to silence this warning.\n",
      "  FutureWarning)\n"
     ]
    },
    {
     "data": {
      "text/plain": [
       "LogisticRegression(C=1.0, class_weight=None, dual=False, fit_intercept=True,\n",
       "                   intercept_scaling=1, l1_ratio=None, max_iter=100,\n",
       "                   multi_class='warn', n_jobs=None, penalty='l2',\n",
       "                   random_state=None, solver='warn', tol=0.0001, verbose=0,\n",
       "                   warm_start=False)"
      ]
     },
     "execution_count": 64,
     "metadata": {},
     "output_type": "execute_result"
    }
   ],
   "source": [
    "estimator = LogisticRegression()\n",
    "estimator.fit(x_train, y_train)"
   ]
  },
  {
   "cell_type": "code",
   "execution_count": 65,
   "metadata": {},
   "outputs": [
    {
     "data": {
      "text/plain": [
       "(array([[ 1.55072312,  0.65014922,  0.6266695 ,  0.89352147, -0.02837964,\n",
       "          1.6091015 ,  1.06725708,  0.73766793,  1.00457999]]),\n",
       " array([-0.64949033]))"
      ]
     },
     "execution_count": 65,
     "metadata": {},
     "output_type": "execute_result"
    }
   ],
   "source": [
    "# 6、逻辑回归的模型参数：回归系数和偏置\n",
    "estimator.coef_,\\\n",
    "estimator.intercept_"
   ]
  },
  {
   "cell_type": "code",
   "execution_count": 66,
   "metadata": {},
   "outputs": [
    {
     "name": "stdout",
     "output_type": "stream",
     "text": [
      "y_predict:\n",
      " [2 2 4 2 2 4 2 2 4 4 4 2 2 2 2 4 4 2 2 4 2 2 2 4 2 2 2 2 4 2 2 2 2 4 4 2 2\n",
      " 2 4 2 2 4 2 4 2 4 2 2 2 2 4 2 2 4 2 2 2 2 2 2 4 4 4 4 4 2 2 4 2 2 2 2 2 2\n",
      " 2 2 2 2 4 4 4 2 2 2 2 2 4 2 4 4 4 4 2 2 2 2 2 4 2 2 4 2 4 4 2 2 2 2 4 2 4\n",
      " 4 2 4 2 4 2 4 4 2 4 2 2 2 2 4 2 4 2 2 2 2 2 2 2 2 2 4 2 2 2 4 2 2 2 2 2 4\n",
      " 2 4 2 4 2 4 2 4 2 2 2 2 2 4 2 2 2 2 2 2 2 4 4]\n",
      "直接比对真实值和预测值:\n",
      " 430    True\n",
      "461    True\n",
      "175    True\n",
      "27     True\n",
      "97     True\n",
      "       ... \n",
      "484    True\n",
      "547    True\n",
      "423    True\n",
      "304    True\n",
      "218    True\n",
      "Name: Class, Length: 171, dtype: bool\n",
      "准确率为:\n",
      " 0.9532163742690059\n"
     ]
    }
   ],
   "source": [
    "# 7、模型评估\n",
    "\n",
    "# 方法1:直接比对真实值和预测值\n",
    "y_predict = estimator.predict(x_test)\n",
    "\n",
    "print(\"y_predict:\\n\",y_predict)\n",
    "print(\"直接比对真实值和预测值:\\n\", y_test == y_predict)\n",
    "\n",
    "# 方法2:计算准确率\n",
    "score = estimator.score(x_test, y_test)\n",
    "print(\"准确率为:\\n\",score)"
   ]
  },
  {
   "cell_type": "markdown",
   "metadata": {},
   "source": [
    "## 二：混淆矩阵"
   ]
  },
  {
   "cell_type": "code",
   "execution_count": 67,
   "metadata": {},
   "outputs": [],
   "source": [
    "# 精确率： 模型差的准不准\n",
    "# 召回率： 模型查的全不全\n",
    "from sklearn.metrics import classification_report"
   ]
  },
  {
   "cell_type": "code",
   "execution_count": 68,
   "metadata": {},
   "outputs": [
    {
     "name": "stdout",
     "output_type": "stream",
     "text": [
      "              precision    recall  f1-score   support\n",
      "\n",
      "          良性       0.97      0.96      0.97       117\n",
      "          恶性       0.91      0.94      0.93        54\n",
      "\n",
      "    accuracy                           0.95       171\n",
      "   macro avg       0.94      0.95      0.95       171\n",
      "weighted avg       0.95      0.95      0.95       171\n",
      "\n"
     ]
    }
   ],
   "source": [
    "report = classification_report(y_test, y_predict, labels=[2,4], target_names=[\"良性\",\"恶性\"])\n",
    "print(report)"
   ]
  },
  {
   "cell_type": "markdown",
   "metadata": {},
   "source": [
    "## 三：ROC曲线和AUC指标\n",
    "\n",
    "AUC 越接近于1，表示越完美，无论设定什么阈值都能得出完美预测； 越接近于0.5，表示优于随机猜测，需妥善设定阈值，方能得出有价值的预测\n",
    "\n",
    "AUC 只适合评价而分类\n",
    "\n",
    "AUC 非常适合评价样本不平衡中的分类器的性能"
   ]
  },
  {
   "cell_type": "markdown",
   "metadata": {},
   "source": [
    "### TPR/FPR"
   ]
  },
  {
   "cell_type": "code",
   "execution_count": 69,
   "metadata": {},
   "outputs": [],
   "source": [
    "# TPR-召回率: 所有真实类别为1的样本中，预测类别为1的比例\n",
    "\n",
    "# FPR：所有真实类别为0的样本中，预测类别为1的比例\n",
    "\n",
    "from sklearn.metrics import roc_auc_score"
   ]
  },
  {
   "cell_type": "code",
   "execution_count": 72,
   "metadata": {},
   "outputs": [],
   "source": [
    "# roc_auc_score(y_true, y_score)\n",
    "# 每个样本的真实类别，必须 1位正例， 0位反例\n",
    "# 将 y_test转换为 0 1\n",
    "\n",
    "y_true = np.where(y_test > 3, 1, 0)"
   ]
  },
  {
   "cell_type": "code",
   "execution_count": 73,
   "metadata": {},
   "outputs": [
    {
     "data": {
      "text/plain": [
       "0.9508547008547008"
      ]
     },
     "execution_count": 73,
     "metadata": {},
     "output_type": "execute_result"
    }
   ],
   "source": [
    "roc_auc_score(y_true, y_predict)"
   ]
  }
 ],
 "metadata": {
  "kernelspec": {
   "display_name": "Python 3",
   "language": "python",
   "name": "python3"
  },
  "language_info": {
   "codemirror_mode": {
    "name": "ipython",
    "version": 3
   },
   "file_extension": ".py",
   "mimetype": "text/x-python",
   "name": "python",
   "nbconvert_exporter": "python",
   "pygments_lexer": "ipython3",
   "version": "3.7.4"
  }
 },
 "nbformat": 4,
 "nbformat_minor": 2
}
