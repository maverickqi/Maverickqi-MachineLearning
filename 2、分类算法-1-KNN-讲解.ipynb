{
 "cells": [
  {
   "cell_type": "markdown",
   "metadata": {},
   "source": [
    "### Tips:在处理之前，首先要对k值进行无量纲化的处理"
   ]
  },
  {
   "cell_type": "markdown",
   "metadata": {},
   "source": [
    "## k-近邻算法\n",
    "\n",
    "\n",
    "#### 优点：简单，易于理解，易于实现，无需训练\n",
    "\n",
    "#### 缺点：必须指定K值，K值选择不当则分类精度不能保证；懒惰算法，对测试样本分类时的计算量大，内存开销大\n",
    "\n",
    "#### 使用场景：小数据场景，几千～几万样本，具体场景具体业务去测试"
   ]
  },
  {
   "cell_type": "code",
   "execution_count": null,
   "metadata": {},
   "outputs": [],
   "source": [
    "# sklearn.neighbors.KNeighborsClassifier(n_neighbors=5, algorithm='auto')\n",
    "\n",
    "# n_neighbors: 默认=5\n",
    "# algorithm：{'auto','ball_tree','kd_tree', 'brute'}"
   ]
  },
  {
   "cell_type": "code",
   "execution_count": 11,
   "metadata": {},
   "outputs": [],
   "source": [
    "import sklearn \n",
    "import numpy as np\n",
    "from sklearn.datasets import load_iris\n",
    "from sklearn.model_selection import train_test_split\n",
    "from sklearn.preprocessing import StandardScaler\n",
    "from sklearn.neighbors import KNeighborsClassifier"
   ]
  },
  {
   "cell_type": "code",
   "execution_count": 20,
   "metadata": {},
   "outputs": [],
   "source": [
    "# 1、获取数据\n",
    "iris = load_iris()"
   ]
  },
  {
   "cell_type": "code",
   "execution_count": 27,
   "metadata": {},
   "outputs": [],
   "source": [
    "# 2、划分数据集\n",
    "x_train, x_test, y_train, y_test  = train_test_split(iris.data, iris.target, random_state = 22)"
   ]
  },
  {
   "cell_type": "code",
   "execution_count": 28,
   "metadata": {},
   "outputs": [],
   "source": [
    "# 3、特征工程：标准化\n",
    "transfer = StandardScaler()\n",
    "x_train = transfer.fit_transform(x_train)\n",
    "\n",
    "# 当对测试集进行标准化时，因为要与训练集一样的处理，所以无需fit()\n",
    "x_test = transfer.transform(x_test)"
   ]
  },
  {
   "cell_type": "markdown",
   "metadata": {},
   "source": [
    "## 参数选择\n",
    "使用构造函数 KNeighborsClassifier(n_neighbors=5, weights=‘uniform’, algorithm=‘auto’, leaf_size=30)，这里有几个比较主要的参数：\n",
    "\n",
    "1.n_neighbors：\n",
    "\n",
    "即 KNN 中的 K 值，代表的是邻居的数量。K 值如果比较小，会造成过拟合。如果 K 值比较大，无法将未知物体分类出来。一般我们使用默认值 5。\n",
    "\n",
    "2.weights：是用来确定邻居的权重，有三种方式：\n",
    "\n",
    "weights=uniform，代表所有邻居的权重相同；\n",
    "weights=distance，代表权重是距离的倒数，即与距离成反比；\n",
    "自定义函数，你可以自定义不同距离所对应的权重。大部分情况下不需要自己定义函数。\n",
    "\n",
    "3.algorithm：用来规定计算邻居的方法，它有四种方式：\n",
    "\n",
    "algorithm=auto，根据数据的情况自动选择适合的算法，默认情况选择 auto；\n",
    "algorithm=kd_tree，也叫作 KD 树，是多维空间的数据结构，方便对关键数据进行检索，不过 KD 树适用于维度少的情况，一般维数不超过 20，如果维数大于 20 之后，效率反而会下降；\n",
    "algorithm=ball_tree，也叫作球树，它和 KD 树一样都是多维空间的数据结果，不同于 KD 树，球树更适用于维度大的情况；\n",
    "algorithm=brute，也叫作暴力搜索，它和 KD 树不同的地方是在于采用的是线性扫描，而不是通过构造树结构进行快速检索。当训练集大的时候，效率很低。\n",
    "\n",
    "4.leaf_size：代表构造 KD 树或球树时的叶子数，默认是 30，调整 leaf_size 会影响到树的构造和搜索速度。"
   ]
  },
  {
   "cell_type": "code",
   "execution_count": null,
   "metadata": {},
   "outputs": [],
   "source": [
    "# 4、 knn算法预估器\n",
    "estimator = KNeighborsClassifier(n_neighbors=3)\n",
    "estimator.fit(x_train, y_train)"
   ]
  },
  {
   "cell_type": "code",
   "execution_count": 30,
   "metadata": {},
   "outputs": [
    {
     "name": "stdout",
     "output_type": "stream",
     "text": [
      "y_predict:\n",
      " [0 2 1 2 1 1 1 2 1 0 2 1 2 2 0 2 1 1 1 1 0 2 0 1 2 0 2 2 2 2 0 0 1 1 1 0 0\n",
      " 0]\n",
      "直接比对真实值和预测值:\n",
      " [ True  True  True  True  True  True  True  True  True  True  True  True\n",
      "  True  True  True  True  True  True False  True  True  True  True  True\n",
      "  True  True  True  True  True  True  True  True  True  True  True  True\n",
      "  True  True]\n",
      "准确率为:\n",
      " 0.9736842105263158\n"
     ]
    }
   ],
   "source": [
    "# 5、模型预估\n",
    "\n",
    "# 方法1:直接比对真实值和预测值\n",
    "y_predict = estimator.predict(x_test)\n",
    "\n",
    "print(\"y_predict:\\n\",y_predict)\n",
    "print(\"直接比对真实值和预测值:\\n\", y_test == y_predict)\n",
    "\n",
    "# 方法2:计算准确率\n",
    "score = estimator.score(x_test, y_test)\n",
    "print(\"准确率为:\\n\",score)"
   ]
  }
 ],
 "metadata": {
  "kernelspec": {
   "display_name": "Python 3",
   "language": "python",
   "name": "python3"
  },
  "language_info": {
   "codemirror_mode": {
    "name": "ipython",
    "version": 3
   },
   "file_extension": ".py",
   "mimetype": "text/x-python",
   "name": "python",
   "nbconvert_exporter": "python",
   "pygments_lexer": "ipython3",
   "version": "3.7.4"
  }
 },
 "nbformat": 4,
 "nbformat_minor": 2
}
