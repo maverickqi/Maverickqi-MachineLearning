{
 "cells": [
  {
   "cell_type": "code",
   "execution_count": 34,
   "metadata": {},
   "outputs": [],
   "source": [
    "# 1、加载图像\n",
    "import PIL.Image as image\n",
    "import numpy as np\n",
    "from sklearn import preprocessing\n",
    "\n",
    "def load_data(filePath):\n",
    "    \n",
    "    # 读取文件\n",
    "    f = open(filePath,'rb')\n",
    "    # 得到图像的像素值\n",
    "    img = image.open(f)\n",
    "    # 得到图像尺寸\n",
    "    width, height = img.size\n",
    "    \n",
    "    data = []\n",
    "    for x in range(width):\n",
    "        for y in range(height):\n",
    "            \n",
    "            # 得到点(x,y)的三个通道值\n",
    "            # R,G,B(0~255)\n",
    "            c1, c2, c3 = img.getpixel((x, y))\n",
    "            data.append([c1, c2, c3])\n",
    "    f.close()\n",
    "    \n",
    "    # 采用Min-Max规范化\n",
    "    transfer = preprocessing.MinMaxScaler()\n",
    "    data = transfer.fit_transform(data)\n",
    "    return np.mat(data), width, height"
   ]
  },
  {
   "cell_type": "code",
   "execution_count": 35,
   "metadata": {},
   "outputs": [],
   "source": [
    "# 1、加载图像，得到规范化的结果img，以及图像尺寸\n",
    "\n",
    "path = ('/Users/zhangqihao/Desktop/PYTHON/机器学习/机器学习资料6/weixin.jpg')\n",
    "\n",
    "img, width, height = load_data(path)"
   ]
  },
  {
   "cell_type": "code",
   "execution_count": 44,
   "metadata": {},
   "outputs": [
    {
     "data": {
      "text/plain": [
       "KMeans(algorithm='auto', copy_x=True, init='k-means++', max_iter=300,\n",
       "       n_clusters=5, n_init=10, n_jobs=None, precompute_distances='auto',\n",
       "       random_state=None, tol=0.0001, verbose=0)"
      ]
     },
     "execution_count": 44,
     "metadata": {},
     "output_type": "execute_result"
    }
   ],
   "source": [
    "# 2、预估器流程\n",
    "from sklearn.cluster import KMeans\n",
    "\n",
    "estimator = KMeans(n_clusters=5)\n",
    "estimator.fit(img)"
   ]
  },
  {
   "cell_type": "code",
   "execution_count": 45,
   "metadata": {},
   "outputs": [
    {
     "data": {
      "image/png": "[encoded data removed]",
      "text/plain": [
       "<PIL.Image.Image image mode=L size=100x177 at 0x7F8D27BD8810>"
      ]
     },
     "execution_count": 45,
     "metadata": {},
     "output_type": "execute_result"
    }
   ],
   "source": [
    "# 3、比较\n",
    "\n",
    "label = estimator.predict(img)\n",
    "\n",
    "# 将图像聚类结果，转化成图像尺寸的矩阵\n",
    "label = label.reshape([width, height])\n",
    "\n",
    "# 创建个新图像pic_mark，用来保存图像聚类的结果，并设置不同的灰度值\n",
    "new_picture = image.new(\"L\", (width, height))\n",
    "\n",
    "for x in range(width):\n",
    "    for y in range(height):\n",
    "        # 根据类别设置图像灰度, 类别0 灰度值为255， 类别1 灰度值为127\n",
    "        new_picture.putpixel((x, y), int(256/(label[x][y]+1))-1)\n",
    "        \n",
    "new_picture"
   ]
  },
  {
   "cell_type": "code",
   "execution_count": null,
   "metadata": {},
   "outputs": [],
   "source": [
    "## 更多请见 机器学习资料6"
   ]
  }
 ],
 "metadata": {
  "kernelspec": {
   "display_name": "Python 3",
   "language": "python",
   "name": "python3"
  },
  "language_info": {
   "codemirror_mode": {
    "name": "ipython",
    "version": 3
   },
   "file_extension": ".py",
   "mimetype": "text/x-python",
   "name": "python",
   "nbconvert_exporter": "python",
   "pygments_lexer": "ipython3",
   "version": "3.7.4"
  }
 },
 "nbformat": 4,
 "nbformat_minor": 2
}
