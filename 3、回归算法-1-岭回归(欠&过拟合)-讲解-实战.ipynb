{
 "cells": [
  {
   "cell_type": "code",
   "execution_count": 5,
   "metadata": {},
   "outputs": [],
   "source": [
    "# 欠拟合：增加数据的特征数量"
   ]
  },
  {
   "cell_type": "code",
   "execution_count": 2,
   "metadata": {},
   "outputs": [],
   "source": [
    "# 过拟合：正则化\n",
    "\n",
    "#L1 : 删除特征的影响\n",
    "#LASSO回归\n",
    "\n",
    "#L2 : 削弱特征的影响\n",
    "#Ridge回归 （损失函数 + 惩罚项） \n",
    "\n",
    "# 正则化力度越大，权重系数越小"
   ]
  },
  {
   "cell_type": "code",
   "execution_count": 36,
   "metadata": {},
   "outputs": [],
   "source": [
    "# 1、获取数据\n",
    "from sklearn.datasets import load_boston\n",
    "boston = load_boston()"
   ]
  },
  {
   "cell_type": "code",
   "execution_count": 37,
   "metadata": {},
   "outputs": [],
   "source": [
    "# 2、划分数据集\n",
    "from sklearn.model_selection import train_test_split\n",
    "\n",
    "x_train, x_test, y_train, y_test = train_test_split(boston.data, boston.target, random_state=22)"
   ]
  },
  {
   "cell_type": "code",
   "execution_count": 38,
   "metadata": {},
   "outputs": [],
   "source": [
    "# 3、标准化\n",
    "from sklearn.preprocessing import StandardScaler\n",
    "\n",
    "transfer = StandardScaler()\n",
    "x_train = transfer.fit_transform(x_train)\n",
    "x_test = transfer.transform(x_test)"
   ]
  },
  {
   "cell_type": "code",
   "execution_count": 39,
   "metadata": {},
   "outputs": [
    {
     "data": {
      "text/plain": [
       "Ridge(alpha=0.5, copy_X=True, fit_intercept=True, max_iter=10000,\n",
       "      normalize=False, random_state=None, solver='auto', tol=0.001)"
      ]
     },
     "execution_count": 39,
     "metadata": {},
     "output_type": "execute_result"
    }
   ],
   "source": [
    "# 4、预估器\n",
    "from sklearn.linear_model import Ridge\n",
    "\n",
    "estimator = Ridge(alpha=0.5, max_iter=10000)\n",
    "estimator.fit(x_train, y_train)"
   ]
  },
  {
   "cell_type": "code",
   "execution_count": 41,
   "metadata": {},
   "outputs": [
    {
     "data": {
      "text/plain": [
       "['/Users/zhangqihao/Desktop/PYTHON/机器学习/岭回归-波士顿放假-模型.pkl']"
      ]
     },
     "execution_count": 41,
     "metadata": {},
     "output_type": "execute_result"
    }
   ],
   "source": [
    "# 4.1、保存模型\n",
    "from sklearn.externals import joblib\n",
    "\n",
    "joblib.dump(estimator, '/Users/zhangqihao/Desktop/PYTHON/机器学习/岭回归-波士顿放假-模型.pkl')"
   ]
  },
  {
   "cell_type": "code",
   "execution_count": 35,
   "metadata": {},
   "outputs": [
    {
     "name": "stdout",
     "output_type": "stream",
     "text": [
      "岭回归-权重系数为：\n",
      " [-0.64193209  1.13369189 -0.07675643  0.74427624 -1.93681163  2.71424838\n",
      " -0.08171268 -3.27871121  2.45697934 -1.81200596 -1.74659067  0.87272606\n",
      " -3.90544403]\n",
      "岭回归-偏置为：\n",
      " 22.62137203166228\n"
     ]
    }
   ],
   "source": [
    "# 5、得出模型\n",
    "\n",
    "print(\"岭回归-权重系数为：\\n\", estimator.coef_)\n",
    "print(\"岭回归-偏置为：\\n\", estimator.intercept_)"
   ]
  },
  {
   "cell_type": "code",
   "execution_count": 31,
   "metadata": {},
   "outputs": [],
   "source": [
    "# 6、模型评估\n",
    "from sklearn.metrics import mean_squared_error"
   ]
  },
  {
   "cell_type": "code",
   "execution_count": 32,
   "metadata": {},
   "outputs": [
    {
     "name": "stdout",
     "output_type": "stream",
     "text": [
      "预测房价：\n",
      " [28.22536271 31.50554479 21.13191715 32.65799504 20.02127243 19.07245621\n",
      " 21.10832868 19.61646071 19.63294981 32.85629282 20.99521805 27.5039205\n",
      " 15.55295503 19.79534148 36.87534254 18.80312973  9.39151837 18.50769876\n",
      " 30.66823994 24.3042416  19.08011554 34.10075629 29.79356171 17.51074566\n",
      " 34.89376386 26.53739131 34.68266415 27.42811508 19.08866098 14.98888119\n",
      " 30.85920064 15.82430706 37.18223651  7.77072879 16.25978968 17.17327251\n",
      "  7.44393003 19.99708381 40.57013125 28.94670553 25.25487557 17.75476957\n",
      " 38.77349313  6.87948646 21.78603146 25.27475292 20.4507104  20.47911411\n",
      " 17.25121804 26.12109499  8.54773286 27.48936704 30.58050833 16.56570322\n",
      "  9.40627771 35.52573005 32.2505845  21.8734037  17.61137983 22.08222631\n",
      " 23.49713296 24.09419259 20.15174912 38.49803353 24.63926151 19.77214318\n",
      " 13.95001219  6.7578343  42.03931243 21.92262496 16.89673286 22.59476215\n",
      " 40.75560357 21.42352637 36.88420001 27.18201696 21.03801678 20.39349944\n",
      " 25.35646095 22.27374662 31.142768   20.39361408 23.99587493 31.54490413\n",
      " 26.76213545 20.8977756  29.0705695  21.99584672 26.30581808 20.10938421\n",
      " 25.47834262 24.08620166 19.90788343 16.41215513 15.26575844 18.40106165\n",
      " 24.82285704 16.61995784 20.87907604 26.70640134 20.75218143 17.88976552\n",
      " 24.27287641 23.36686439 21.57861455 36.78815164 15.88447635 21.47747831\n",
      " 32.80013402 33.71367379 20.61690009 26.83175792 22.69265611 17.38149366\n",
      " 21.67395385 21.67101719 27.6669245  25.06785897 23.73251233 14.65355067\n",
      " 15.19441045  3.81755887 29.1743764  20.68219692 22.33163756 28.01411044\n",
      " 28.55668351]\n",
      "岭回归-均方误差为：\n",
      " 20.641771606180914\n"
     ]
    }
   ],
   "source": [
    "y_predict = estimator.predict(x_test)\n",
    "\n",
    "print(\"预测房价：\\n\",y_predict)\n",
    "\n",
    "error = mean_squared_error(y_test, y_predict)\n",
    "\n",
    "print(\"岭回归-均方误差为：\\n\", error)"
   ]
  }
 ],
 "metadata": {
  "kernelspec": {
   "display_name": "Python 3",
   "language": "python",
   "name": "python3"
  },
  "language_info": {
   "codemirror_mode": {
    "name": "ipython",
    "version": 3
   },
   "file_extension": ".py",
   "mimetype": "text/x-python",
   "name": "python",
   "nbconvert_exporter": "python",
   "pygments_lexer": "ipython3",
   "version": "3.7.4"
  }
 },
 "nbformat": 4,
 "nbformat_minor": 2
}
