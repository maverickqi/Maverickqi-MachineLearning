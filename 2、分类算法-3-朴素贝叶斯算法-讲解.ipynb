{
 "cells": [
  {
   "cell_type": "markdown",
   "metadata": {},
   "source": [
    "## 朴素贝叶斯算法\n",
    "\n",
    "\n",
    "#### 优点：对缺失数据不太敏感，算法也比较简单，常用于文本分类；分类准确度高，速度快\n",
    "\n",
    "#### 缺点：由于使用了样本属性独立性的假设，所以如果特征属性有关联时其效果不好\n",
    "\n",
    "#### 适用场景：文本分类；单词作为特征"
   ]
  },
  {
   "cell_type": "code",
   "execution_count": null,
   "metadata": {},
   "outputs": [],
   "source": [
    "# 朴素？\n",
    "# 假设：特征与特征之间是相互独立"
   ]
  },
  {
   "cell_type": "code",
   "execution_count": null,
   "metadata": {},
   "outputs": [],
   "source": [
    "# 联合概率：包含多个条件，且所有条件同时成立的概率\n",
    "# P(程序员, 匀称) P(程序员, 超重|喜欢)\n",
    "# P(A, B)\n",
    "\n",
    "# 条件概率：就是事件A在另外一个事件B已经发生条件下的发生概率\n",
    "# P(程序员|喜欢) P(程序员, 超重|喜欢)\n",
    "# P(A|B)\n",
    "            \n",
    "# 相互独立:\n",
    "# P(A, B) = P(A)P(B) <=> 事件A与事件B相互独立"
   ]
  },
  {
   "cell_type": "markdown",
   "metadata": {},
   "source": [
    "## 拉普拉斯平滑系数\n",
    "\n",
    "\n",
    "####  防止出现概率中概率为0的现象"
   ]
  },
  {
   "cell_type": "code",
   "execution_count": null,
   "metadata": {},
   "outputs": [],
   "source": [
    "# P(F|C) = (Ni + a) / (N + am)\n",
    "# a = 1\n",
    "# m为训练文档中统计出的特征次个数"
   ]
  }
 ],
 "metadata": {
  "kernelspec": {
   "display_name": "Python 3",
   "language": "python",
   "name": "python3"
  },
  "language_info": {
   "codemirror_mode": {
    "name": "ipython",
    "version": 3
   },
   "file_extension": ".py",
   "mimetype": "text/x-python",
   "name": "python",
   "nbconvert_exporter": "python",
   "pygments_lexer": "ipython3",
   "version": "3.7.4"
  }
 },
 "nbformat": 4,
 "nbformat_minor": 2
}
