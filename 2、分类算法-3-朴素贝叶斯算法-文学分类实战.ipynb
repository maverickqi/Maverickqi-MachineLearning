{
 "cells": [
  {
   "cell_type": "code",
   "execution_count": null,
   "metadata": {},
   "outputs": [],
   "source": [
    "train_contents=[]\n",
    "train_labels=[]\n",
    "test_contents=[]\n",
    "test_labels=[]\n",
    "#  导入文件\n",
    "import os\n",
    "import io\n",
    "start=os.listdir(r'text classification/train')\n",
    "for item in start:\n",
    "    test_path='text classification/test/'+item+'/'\n",
    "    train_path='text classification/train/'+item+'/'\n",
    "    for file in os.listdir(test_path):\n",
    "        with open(test_path+file,encoding=\"GBK\") as f:\n",
    "            test_contents.append(f.readline())\n",
    "            #print(test_contents)\n",
    "            test_labels.append(item)\n",
    "    for file in os.listdir(train_path):\n",
    "        with open(train_path+file,encoding='gb18030', errors='ignore') as f:\n",
    "            train_contents.append(f.readline())\n",
    "            train_labels.append(item)\n",
    "print(len(train_contents),len(test_contents))\n",
    " \n",
    "# 导入stop word\n",
    "import jieba\n",
    "from sklearn import metrics\n",
    "from sklearn.naive_bayes import MultinomialNB  \n",
    "stop_words = [line.strip() for line in io.open('text classification/stop/stopword.txt').readlines()]\n",
    " \n",
    "# 分词方式使用jieba,计算单词的权重\n",
    "tf = TfidfVectorizer(tokenizer=jieba.cut,stop_words=stop_words, max_df=0.5)\n",
    "train_features = tf.fit_transform(train_contents)\n",
    "print(train_features.shape)\n",
    " \n",
    "模块 4：生成朴素贝叶斯分类器\n",
    "# 多项式贝叶斯分类器\n",
    "clf = MultinomialNB(alpha=0.001).fit(train_features, train_labels)\n",
    " \n",
    "模块 5：使用生成的分类器做预测\n",
    "test_tf = TfidfVectorizer(tokenizer=jieba.cut,stop_words=stop_words, max_df=0.5, vocabulary=tf.vocabulary_)\n",
    "test_features=test_tf.fit_transform(test_contents)\n",
    " \n",
    "print(test_features.shape)\n",
    "predicted_labels=clf.predict(test_features)\n",
    "print(metrics.accuracy_score(test_labels, predicted_labels))\n",
    " "
   ]
  }
 ],
 "metadata": {
  "kernelspec": {
   "display_name": "Python 3",
   "language": "python",
   "name": "python3"
  },
  "language_info": {
   "codemirror_mode": {
    "name": "ipython",
    "version": 3
   },
   "file_extension": ".py",
   "mimetype": "text/x-python",
   "name": "python",
   "nbconvert_exporter": "python",
   "pygments_lexer": "ipython3",
   "version": "3.7.4"
  }
 },
 "nbformat": 4,
 "nbformat_minor": 2
}
