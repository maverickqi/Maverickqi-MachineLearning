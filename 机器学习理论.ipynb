{
 "cells": [
  {
   "cell_type": "markdown",
   "metadata": {},
   "source": [
    "## 1、分类"
   ]
  },
  {
   "cell_type": "markdown",
   "metadata": {},
   "source": [
    "### 监督学习\n",
    "\n",
    "#### 分类： k-近邻算法、贝叶斯分类、决策树与随机森林、逻辑回归\n",
    "#### 回归： 线性回归、岭回归"
   ]
  },
  {
   "cell_type": "markdown",
   "metadata": {},
   "source": [
    "### 无监督学习\n",
    "\n",
    "#### 聚类： k-means"
   ]
  },
  {
   "cell_type": "markdown",
   "metadata": {},
   "source": [
    "## 2、流程"
   ]
  },
  {
   "cell_type": "markdown",
   "metadata": {},
   "source": [
    "### 获取数据->数据处理->特征工程->机器学习算法训练->模型评估->应用"
   ]
  },
  {
   "cell_type": "markdown",
   "metadata": {},
   "source": [
    "## 3、可用数据集\n",
    "\n",
    "### scikit-learn特点：1、数据量较小；2、方便学习\n",
    "\n",
    "### uci特点：1、收录了360个数据集；2、覆盖科学，生活，经济领域；3、数据量几十万\n",
    "\n",
    "### kaggle：1、大数据竞赛平台；2、80万科学家；3、真实数据；4、数据量巨大"
   ]
  },
  {
   "cell_type": "code",
   "execution_count": null,
   "metadata": {},
   "outputs": [],
   "source": []
  },
  {
   "cell_type": "code",
   "execution_count": null,
   "metadata": {},
   "outputs": [],
   "source": []
  }
 ],
 "metadata": {
  "kernelspec": {
   "display_name": "Python 3",
   "language": "python",
   "name": "python3"
  },
  "language_info": {
   "codemirror_mode": {
    "name": "ipython",
    "version": 3
   },
   "file_extension": ".py",
   "mimetype": "text/x-python",
   "name": "python",
   "nbconvert_exporter": "python",
   "pygments_lexer": "ipython3",
   "version": "3.7.4"
  }
 },
 "nbformat": 4,
 "nbformat_minor": 2
}
