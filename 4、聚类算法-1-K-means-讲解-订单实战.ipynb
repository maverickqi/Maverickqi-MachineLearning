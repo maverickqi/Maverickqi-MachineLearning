{
 "cells": [
  {
   "cell_type": "code",
   "execution_count": 1,
   "metadata": {},
   "outputs": [],
   "source": [
    "# 1、获取数据\n",
    "import pandas as pd\n",
    "\n",
    "order_products = pd.read_csv('/Users/zhangqihao/Desktop/PYTHON/机器学习/机器学习资料1/02-代码/instacart/order_products.csv')\n",
    "products = pd.read_csv('/Users/zhangqihao/Desktop/PYTHON/机器学习/机器学习资料1/02-代码/instacart/products.csv')\n",
    "orders = pd.read_csv('/Users/zhangqihao/Desktop/PYTHON/机器学习/机器学习资料1/02-代码/instacart/orders.csv')\n",
    "aisles = pd.read_csv('/Users/zhangqihao/Desktop/PYTHON/机器学习/机器学习资料1/02-代码/instacart/aisles.csv')"
   ]
  },
  {
   "cell_type": "code",
   "execution_count": 2,
   "metadata": {},
   "outputs": [],
   "source": [
    "# 2、合并表\n",
    "table1 = pd.merge(aisles, products, on=[\"aisle_id\", \"aisle_id\"])\n",
    "table2 = pd.merge(table1, order_products, on=[\"product_id\",\"product_id\"])\n",
    "table3 = pd.merge(table2, orders, on=[\"order_id\",\"order_id\"])"
   ]
  },
  {
   "cell_type": "code",
   "execution_count": 3,
   "metadata": {},
   "outputs": [],
   "source": [
    "# 3、透视表/交叉表\n",
    "new_table = pd.crosstab(table3[\"user_id\"], table3[\"aisle\"])"
   ]
  },
  {
   "cell_type": "code",
   "execution_count": 4,
   "metadata": {},
   "outputs": [],
   "source": [
    "# 4、PCA 降维\n",
    "from sklearn.decomposition import PCA\n",
    "\n",
    "transfer = PCA(n_components=0.95)\n",
    "new_data = transfer.fit_transform(new_table)"
   ]
  },
  {
   "cell_type": "markdown",
   "metadata": {},
   "source": [
    "## k_means参数\n",
    "n_clusters: 即 K 值，一般需要多试一些 K 值来保证更好的聚类效果。你可以随机设置一些 K 值，然后选择聚类效果最好的作为最终的 K 值；\n",
    "\n",
    "max_iter： 最大迭代次数，如果聚类很难收敛的话，设置最大迭代次数可以让我们及时得到反馈结果，否则程序运行时间会非常长；\n",
    "\n",
    "n_init：初始化中心点的运算次数，默认是 10。程序是否能快速收敛和中心点的选择关系非常大，所以在中心点选择上多花一些时间，来争取整体时间上的快速收敛还是非常值得的。由于每一次中心点都是随机生成的，这样得到的结果就有好有坏，非常不确定，所以要运行 n_init 次, 取其中最好的作为初始的中心点。如果 K 值比较大的时候，你可以适当增大 n_init 这个值；\n",
    "\n",
    "init： 即初始值选择的方式，默认是采用优化过的 k-means++ 方式，你也可以自己指定中心点，或者采用 random 完全随机的方式。自己设置中心点一般是对于个性化的数据进行设置，很少采用。random 的方式则是完全随机的方式，一般推荐采用优化过的 k-means++ 方式；\n",
    "\n",
    "algorithm：k-means 的实现算法，有“auto” “full”“elkan”三种。一般来说建议直接用默认的\"auto\"。简单说下这三个取值的区别，如果你选择\"full\"采用的是传统的 K-Means 算法，“auto”会根据数据的特点自动选择是选择“full”还是“elkan”。我们一般选择默认的取值，即“auto”"
   ]
  },
  {
   "cell_type": "code",
   "execution_count": 6,
   "metadata": {},
   "outputs": [
    {
     "data": {
      "text/plain": [
       "KMeans(algorithm='auto', copy_x=True, init='k-means++', max_iter=300,\n",
       "       n_clusters=3, n_init=10, n_jobs=None, precompute_distances='auto',\n",
       "       random_state=None, tol=0.0001, verbose=0)"
      ]
     },
     "execution_count": 6,
     "metadata": {},
     "output_type": "execute_result"
    }
   ],
   "source": [
    "# 5、预估器流程\n",
    "from sklearn.cluster import KMeans\n",
    "\n",
    "estimator = KMeans(n_clusters=3)\n",
    "estimator.fit(new_data)"
   ]
  },
  {
   "cell_type": "code",
   "execution_count": 11,
   "metadata": {},
   "outputs": [],
   "source": [
    "y_predict = estimator.predict(new_data)"
   ]
  },
  {
   "cell_type": "code",
   "execution_count": 7,
   "metadata": {},
   "outputs": [],
   "source": [
    "# 6、性能评估 - 轮廓系数\n",
    "\n",
    "# 外部距离最大化/内部距离最小化\n",
    "# 取值范围： -1 ～ 1，越接近于1越好"
   ]
  },
  {
   "cell_type": "code",
   "execution_count": 12,
   "metadata": {},
   "outputs": [],
   "source": [
    "from sklearn.metrics import silhouette_score"
   ]
  },
  {
   "cell_type": "code",
   "execution_count": 13,
   "metadata": {},
   "outputs": [
    {
     "data": {
      "text/plain": [
       "0.5368333366182594"
      ]
     },
     "execution_count": 13,
     "metadata": {},
     "output_type": "execute_result"
    }
   ],
   "source": [
    "silhouette_score(new_data, y_predict)"
   ]
  }
 ],
 "metadata": {
  "kernelspec": {
   "display_name": "Python 3",
   "language": "python",
   "name": "python3"
  },
  "language_info": {
   "codemirror_mode": {
    "name": "ipython",
    "version": 3
   },
   "file_extension": ".py",
   "mimetype": "text/x-python",
   "name": "python",
   "nbconvert_exporter": "python",
   "pygments_lexer": "ipython3",
   "version": "3.7.4"
  }
 },
 "nbformat": 4,
 "nbformat_minor": 2
}
