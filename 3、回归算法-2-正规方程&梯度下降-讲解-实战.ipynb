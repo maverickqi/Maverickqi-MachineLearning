{
 "cells": [
  {
   "cell_type": "markdown",
   "metadata": {},
   "source": [
    "## 1、正规方程"
   ]
  },
  {
   "cell_type": "code",
   "execution_count": 79,
   "metadata": {},
   "outputs": [
    {
     "name": "stdout",
     "output_type": "stream",
     "text": [
      "特征数量：\n",
      " (506, 13)\n"
     ]
    }
   ],
   "source": [
    "# 1、获取数据\n",
    "from sklearn.datasets import load_boston\n",
    "boston = load_boston()\n",
    "\n",
    "print(\"特征数量：\\n\", boston.data.shape)"
   ]
  },
  {
   "cell_type": "code",
   "execution_count": 80,
   "metadata": {},
   "outputs": [],
   "source": [
    "# 2、划分数据集\n",
    "from sklearn.model_selection import train_test_split\n",
    "\n",
    "x_train, x_test, y_train, y_test = train_test_split(boston.data, boston.target, random_state=22)"
   ]
  },
  {
   "cell_type": "code",
   "execution_count": 81,
   "metadata": {},
   "outputs": [],
   "source": [
    "# 3、标准化\n",
    "from sklearn.preprocessing import StandardScaler\n",
    "\n",
    "transfer = StandardScaler()\n",
    "x_train = transfer.fit_transform(x_train)\n",
    "x_test = transfer.transform(x_test)"
   ]
  },
  {
   "cell_type": "code",
   "execution_count": 82,
   "metadata": {},
   "outputs": [
    {
     "data": {
      "text/plain": [
       "LinearRegression(copy_X=True, fit_intercept=True, n_jobs=None, normalize=False)"
      ]
     },
     "execution_count": 82,
     "metadata": {},
     "output_type": "execute_result"
    }
   ],
   "source": [
    "# 4、预估器\n",
    "from sklearn.linear_model import LinearRegression\n",
    "\n",
    "estimator = LinearRegression()\n",
    "estimator.fit(x_train, y_train)"
   ]
  },
  {
   "cell_type": "code",
   "execution_count": 83,
   "metadata": {
    "scrolled": true
   },
   "outputs": [
    {
     "name": "stdout",
     "output_type": "stream",
     "text": [
      "正规方程-权重系数为：\n",
      " [-0.64817766  1.14673408 -0.05949444  0.74216553 -1.95515269  2.70902585\n",
      " -0.07737374 -3.29889391  2.50267196 -1.85679269 -1.75044624  0.87341624\n",
      " -3.91336869]\n",
      "偏置为：\n",
      " 22.62137203166228\n"
     ]
    }
   ],
   "source": [
    "# 5、得出模型\n",
    "\n",
    "print(\"正规方程-权重系数为：\\n\", estimator.coef_)\n",
    "print(\"偏置为：\\n\", estimator.intercept_)"
   ]
  },
  {
   "cell_type": "code",
   "execution_count": 84,
   "metadata": {},
   "outputs": [],
   "source": [
    "# 6、模型评估\n",
    "from sklearn.metrics import mean_squared_error"
   ]
  },
  {
   "cell_type": "code",
   "execution_count": 85,
   "metadata": {},
   "outputs": [
    {
     "name": "stdout",
     "output_type": "stream",
     "text": [
      "预测房价：\n",
      " [28.22944896 31.5122308  21.11612841 32.6663189  20.0023467  19.07315705\n",
      " 21.09772798 19.61400153 19.61907059 32.87611987 20.97911561 27.52898011\n",
      " 15.54701758 19.78630176 36.88641203 18.81202132  9.35912225 18.49452615\n",
      " 30.66499315 24.30184448 19.08220837 34.11391208 29.81386585 17.51775647\n",
      " 34.91026707 26.54967053 34.71035391 27.4268996  19.09095832 14.92742976\n",
      " 30.86877936 15.88271775 37.17548808  7.72101675 16.24074861 17.19211608\n",
      "  7.42140081 20.0098852  40.58481466 28.93190595 25.25404307 17.74970308\n",
      " 38.76446932  6.87996052 21.80450956 25.29110265 20.427491   20.4698034\n",
      " 17.25330064 26.12442519  8.48268143 27.50871869 30.58284841 16.56039764\n",
      "  9.38919181 35.54434377 32.29801978 21.81298945 17.60263689 22.0804256\n",
      " 23.49262401 24.10617033 20.1346492  38.5268066  24.58319594 19.78072415\n",
      " 13.93429891  6.75507808 42.03759064 21.9215625  16.91352899 22.58327744\n",
      " 40.76440704 21.3998946  36.89912238 27.19273661 20.97945544 20.37925063\n",
      " 25.3536439  22.18729123 31.13342301 20.39451125 23.99224334 31.54729547\n",
      " 26.74581308 20.90199941 29.08225233 21.98331503 26.29101202 20.17329401\n",
      " 25.49225305 24.09171045 19.90739221 16.35154974 15.25184758 18.40766132\n",
      " 24.83797801 16.61703662 20.89470344 26.70854061 20.7591883  17.88403312\n",
      " 24.28656105 23.37651493 21.64202047 36.81476219 15.86570054 21.42338732\n",
      " 32.81366203 33.74086414 20.61688336 26.88191023 22.65739323 17.35731771\n",
      " 21.67699248 21.65034728 27.66728556 25.04691687 23.73976625 14.6649641\n",
      " 15.17700342  3.81620663 29.18194848 20.68544417 22.32934783 28.01568563\n",
      " 28.58237108]\n",
      "正规方程-均方误差为：\n",
      " 20.627513763095386\n"
     ]
    }
   ],
   "source": [
    "y_predict = estimator.predict(x_test)\n",
    "\n",
    "print(\"预测房价：\\n\",y_predict)\n",
    "\n",
    "error = mean_squared_error(y_test, y_predict)\n",
    "\n",
    "print(\"正规方程-均方误差为：\\n\", error)"
   ]
  },
  {
   "cell_type": "markdown",
   "metadata": {},
   "source": [
    "## 2、梯度下降"
   ]
  },
  {
   "cell_type": "code",
   "execution_count": 72,
   "metadata": {},
   "outputs": [],
   "source": [
    "# 1、获取数据\n",
    "from sklearn.datasets import load_boston\n",
    "boston = load_boston()"
   ]
  },
  {
   "cell_type": "code",
   "execution_count": 73,
   "metadata": {},
   "outputs": [],
   "source": [
    "# 2、划分数据集\n",
    "from sklearn.model_selection import train_test_split\n",
    "\n",
    "x_train, x_test, y_train, y_test = train_test_split(boston.data, boston.target, random_state=22)"
   ]
  },
  {
   "cell_type": "code",
   "execution_count": 74,
   "metadata": {},
   "outputs": [],
   "source": [
    "# 3、标准化\n",
    "from sklearn.preprocessing import StandardScaler\n",
    "\n",
    "transfer = StandardScaler()\n",
    "x_train = transfer.fit_transform(x_train)\n",
    "x_test = transfer.transform(x_test)"
   ]
  },
  {
   "cell_type": "code",
   "execution_count": 75,
   "metadata": {},
   "outputs": [
    {
     "data": {
      "text/plain": [
       "SGDRegressor(alpha=0.0001, average=False, early_stopping=False, epsilon=0.1,\n",
       "             eta0=0.01, fit_intercept=True, l1_ratio=0.15,\n",
       "             learning_rate='constant', loss='squared_loss', max_iter=10000,\n",
       "             n_iter_no_change=5, penalty='l2', power_t=0.25, random_state=None,\n",
       "             shuffle=True, tol=0.001, validation_fraction=0.1, verbose=0,\n",
       "             warm_start=False)"
      ]
     },
     "execution_count": 75,
     "metadata": {},
     "output_type": "execute_result"
    }
   ],
   "source": [
    "# 4、预估器\n",
    "from sklearn.linear_model import SGDRegressor\n",
    "\n",
    "estimator = SGDRegressor(learning_rate=\"constant\",eta0=0.01, max_iter=10000)\n",
    "estimator.fit(x_train, y_train)"
   ]
  },
  {
   "cell_type": "code",
   "execution_count": 76,
   "metadata": {},
   "outputs": [
    {
     "name": "stdout",
     "output_type": "stream",
     "text": [
      "梯度下降-权重系数为：\n",
      " [-0.73382881  1.5143052  -0.21491463  0.2053135  -2.03350469  1.97718973\n",
      " -0.15222016 -3.03369037  2.22257839 -2.06590313 -1.52536371  1.27910882\n",
      " -3.55713188]\n",
      "偏置为：\n",
      " [22.18654075]\n"
     ]
    }
   ],
   "source": [
    "# 5、得出模型\n",
    "\n",
    "print(\"梯度下降-权重系数为：\\n\", estimator.coef_)\n",
    "print(\"偏置为：\\n\", estimator.intercept_)"
   ]
  },
  {
   "cell_type": "code",
   "execution_count": 77,
   "metadata": {},
   "outputs": [],
   "source": [
    "# 6、模型评估\n",
    "from sklearn.metrics import mean_squared_error"
   ]
  },
  {
   "cell_type": "code",
   "execution_count": 78,
   "metadata": {
    "scrolled": true
   },
   "outputs": [
    {
     "name": "stdout",
     "output_type": "stream",
     "text": [
      "预测房价：\n",
      " [27.28214444 30.4649703  21.34963982 29.39998369 20.09831309 17.95354012\n",
      " 21.45327782 20.56867027 20.33510783 30.55975161 21.20255765 25.58886072\n",
      " 15.8764639  19.20464739 33.53934753 19.90394537  9.78185699 18.93815018\n",
      " 29.67870304 24.53454228 17.76996785 32.52091395 26.92429538 16.6464048\n",
      " 33.29378924 26.67531823 35.25477585 27.84558984 17.53341726 15.98893084\n",
      " 29.76737587 16.46739042 36.95379646  4.43627337 16.97579048 16.25719185\n",
      "  7.1762054  19.06382881 36.80822121 28.47354426 25.2109334  15.93204742\n",
      " 31.83499542  7.42396631 20.91701983 25.22661955 17.92446507 19.82261323\n",
      " 16.47743717 23.32743474  8.63673031 28.08776274 27.65877475 15.20056498\n",
      "  6.826939   33.8923249  33.44857937 21.94003703 18.25534567 23.12566288\n",
      " 23.4987174  24.50947305 20.73556666 36.84285936 24.41574517 18.41816419\n",
      " 11.24499883  7.39119012 36.02090451 22.53388265 14.47572992 22.99863077\n",
      " 37.80366316 22.45528923 34.91270997 26.96155294 22.22674747 18.76560549\n",
      " 25.71334182 21.94448612 30.19287928 21.47221178 22.14336011 32.48818095\n",
      " 25.74062278 19.68305786 28.56056794 22.45492816 25.60905841 20.34606288\n",
      " 27.56168476 22.09354486 18.09239662 13.29579617 12.08090426 17.54434654\n",
      " 25.24125121 13.92636794 19.56049248 26.00781185 19.00362034 16.44725994\n",
      " 23.65579567 23.45655704 21.86641536 34.47892719 16.76201769 21.87742602\n",
      " 32.36779182 28.93744144 21.18741086 27.19393426 19.03291016 18.12633298\n",
      " 22.44621105 24.07537254 29.00650476 26.92768453 23.85524941 14.39866445\n",
      " 11.84266267  4.45157857 28.74238922 19.24054542 23.08878116 27.78137297\n",
      " 27.20497897]\n",
      "正规方程-均方误差为：\n",
      " 21.230040421310093\n"
     ]
    }
   ],
   "source": [
    "y_predict = estimator.predict(x_test)\n",
    "\n",
    "print(\"预测房价：\\n\",y_predict)\n",
    "\n",
    "error = mean_squared_error(y_test, y_predict)\n",
    "\n",
    "print(\"正规方程-均方误差为：\\n\", error)"
   ]
  },
  {
   "cell_type": "markdown",
   "metadata": {},
   "source": [
    "## 3、梯度下降优化方法"
   ]
  },
  {
   "cell_type": "code",
   "execution_count": 1,
   "metadata": {},
   "outputs": [],
   "source": [
    "# 1、GD\n",
    "# 原始的梯度下降方法，需要计算所有样本的值才能够得出梯度，计算量大"
   ]
  },
  {
   "cell_type": "code",
   "execution_count": 2,
   "metadata": {},
   "outputs": [],
   "source": [
    "# 2、SGD\n",
    "# 随机梯度下降，它子一次迭代时只考虑一个训练样本。\n",
    "# 优点： 高效，容易实现\n",
    "# 缺点：需要很多超参数，对于特征标准化是敏感的"
   ]
  },
  {
   "cell_type": "code",
   "execution_count": null,
   "metadata": {},
   "outputs": [],
   "source": [
    "# 3、SAG\n",
    "# 随机平均梯度法"
   ]
  }
 ],
 "metadata": {
  "kernelspec": {
   "display_name": "Python 3",
   "language": "python",
   "name": "python3"
  },
  "language_info": {
   "codemirror_mode": {
    "name": "ipython",
    "version": 3
   },
   "file_extension": ".py",
   "mimetype": "text/x-python",
   "name": "python",
   "nbconvert_exporter": "python",
   "pygments_lexer": "ipython3",
   "version": "3.7.4"
  }
 },
 "nbformat": 4,
 "nbformat_minor": 2
}
