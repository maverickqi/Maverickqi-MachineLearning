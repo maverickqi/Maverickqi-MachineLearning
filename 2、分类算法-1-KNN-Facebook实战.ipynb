{
 "cells": [
  {
   "cell_type": "code",
   "execution_count": 1,
   "metadata": {},
   "outputs": [],
   "source": [
    "import pandas as pd"
   ]
  },
  {
   "cell_type": "code",
   "execution_count": 23,
   "metadata": {},
   "outputs": [],
   "source": [
    "# 1、获取数据\n",
    "\n",
    "data = pd.read_csv('/Users/zhangqihao/Desktop/PYTHON/机器学习/机器学习资料2/02-代码/FBlocation/train.csv')"
   ]
  },
  {
   "cell_type": "code",
   "execution_count": 71,
   "metadata": {},
   "outputs": [],
   "source": [
    "# 2、处理数据\n",
    "\n",
    "# (1)因为有两千万行数据，为了方便起见，略微缩小数据范围\n",
    "data = data.query(\"x < 2.5 & x > 2 & y < 1.5 & y > 1.0\")"
   ]
  },
  {
   "cell_type": "code",
   "execution_count": 72,
   "metadata": {},
   "outputs": [],
   "source": [
    "# (2)将时间戳转换为具体时间\n",
    "time_value = pd.to_datetime(data.time, unit='s')\n",
    "date = pd.DatetimeIndex(time_value)\n",
    "\n",
    "# 选取有用的时间数据加入原数据中\n",
    "data[\"day\"] = date.day\n",
    "data[\"weekday\"] = date.weekday\n",
    "data[\"hour\"] = date.hour"
   ]
  },
  {
   "cell_type": "code",
   "execution_count": 73,
   "metadata": {},
   "outputs": [
    {
     "data": {
      "text/html": [
       "<div>\n",
       "<style scoped>\n",
       "    .dataframe tbody tr th:only-of-type {\n",
       "        vertical-align: middle;\n",
       "    }\n",
       "\n",
       "    .dataframe tbody tr th {\n",
       "        vertical-align: top;\n",
       "    }\n",
       "\n",
       "    .dataframe thead th {\n",
       "        text-align: right;\n",
       "    }\n",
       "</style>\n",
       "<table border=\"1\" class=\"dataframe\">\n",
       "  <thead>\n",
       "    <tr style=\"text-align: right;\">\n",
       "      <th></th>\n",
       "      <th>row_id</th>\n",
       "      <th>x</th>\n",
       "      <th>y</th>\n",
       "      <th>accuracy</th>\n",
       "      <th>time</th>\n",
       "      <th>place_id</th>\n",
       "      <th>day</th>\n",
       "      <th>weekday</th>\n",
       "      <th>hour</th>\n",
       "    </tr>\n",
       "  </thead>\n",
       "  <tbody>\n",
       "    <tr>\n",
       "      <td>112</td>\n",
       "      <td>112</td>\n",
       "      <td>2.2360</td>\n",
       "      <td>1.3655</td>\n",
       "      <td>66</td>\n",
       "      <td>623174</td>\n",
       "      <td>7663031065</td>\n",
       "      <td>8</td>\n",
       "      <td>3</td>\n",
       "      <td>5</td>\n",
       "    </tr>\n",
       "    <tr>\n",
       "      <td>367</td>\n",
       "      <td>367</td>\n",
       "      <td>2.4108</td>\n",
       "      <td>1.3213</td>\n",
       "      <td>74</td>\n",
       "      <td>579667</td>\n",
       "      <td>6644108708</td>\n",
       "      <td>7</td>\n",
       "      <td>2</td>\n",
       "      <td>17</td>\n",
       "    </tr>\n",
       "    <tr>\n",
       "      <td>874</td>\n",
       "      <td>874</td>\n",
       "      <td>2.0822</td>\n",
       "      <td>1.1973</td>\n",
       "      <td>320</td>\n",
       "      <td>143566</td>\n",
       "      <td>3229876087</td>\n",
       "      <td>2</td>\n",
       "      <td>4</td>\n",
       "      <td>15</td>\n",
       "    </tr>\n",
       "    <tr>\n",
       "      <td>1022</td>\n",
       "      <td>1022</td>\n",
       "      <td>2.0160</td>\n",
       "      <td>1.1659</td>\n",
       "      <td>65</td>\n",
       "      <td>207993</td>\n",
       "      <td>3244363975</td>\n",
       "      <td>3</td>\n",
       "      <td>5</td>\n",
       "      <td>9</td>\n",
       "    </tr>\n",
       "    <tr>\n",
       "      <td>1045</td>\n",
       "      <td>1045</td>\n",
       "      <td>2.3859</td>\n",
       "      <td>1.1660</td>\n",
       "      <td>498</td>\n",
       "      <td>503378</td>\n",
       "      <td>6438240873</td>\n",
       "      <td>6</td>\n",
       "      <td>1</td>\n",
       "      <td>19</td>\n",
       "    </tr>\n",
       "    <tr>\n",
       "      <td>...</td>\n",
       "      <td>...</td>\n",
       "      <td>...</td>\n",
       "      <td>...</td>\n",
       "      <td>...</td>\n",
       "      <td>...</td>\n",
       "      <td>...</td>\n",
       "      <td>...</td>\n",
       "      <td>...</td>\n",
       "      <td>...</td>\n",
       "    </tr>\n",
       "    <tr>\n",
       "      <td>29115112</td>\n",
       "      <td>29115112</td>\n",
       "      <td>2.1889</td>\n",
       "      <td>1.2914</td>\n",
       "      <td>168</td>\n",
       "      <td>721885</td>\n",
       "      <td>4606837364</td>\n",
       "      <td>9</td>\n",
       "      <td>4</td>\n",
       "      <td>8</td>\n",
       "    </tr>\n",
       "    <tr>\n",
       "      <td>29115204</td>\n",
       "      <td>29115204</td>\n",
       "      <td>2.1193</td>\n",
       "      <td>1.4692</td>\n",
       "      <td>58</td>\n",
       "      <td>563389</td>\n",
       "      <td>2074133146</td>\n",
       "      <td>7</td>\n",
       "      <td>2</td>\n",
       "      <td>12</td>\n",
       "    </tr>\n",
       "    <tr>\n",
       "      <td>29115338</td>\n",
       "      <td>29115338</td>\n",
       "      <td>2.0007</td>\n",
       "      <td>1.4852</td>\n",
       "      <td>25</td>\n",
       "      <td>765986</td>\n",
       "      <td>6691588909</td>\n",
       "      <td>9</td>\n",
       "      <td>4</td>\n",
       "      <td>20</td>\n",
       "    </tr>\n",
       "    <tr>\n",
       "      <td>29115464</td>\n",
       "      <td>29115464</td>\n",
       "      <td>2.4132</td>\n",
       "      <td>1.4237</td>\n",
       "      <td>61</td>\n",
       "      <td>151918</td>\n",
       "      <td>7396159924</td>\n",
       "      <td>2</td>\n",
       "      <td>4</td>\n",
       "      <td>18</td>\n",
       "    </tr>\n",
       "    <tr>\n",
       "      <td>29117493</td>\n",
       "      <td>29117493</td>\n",
       "      <td>2.2948</td>\n",
       "      <td>1.0504</td>\n",
       "      <td>81</td>\n",
       "      <td>79569</td>\n",
       "      <td>1168869217</td>\n",
       "      <td>1</td>\n",
       "      <td>3</td>\n",
       "      <td>22</td>\n",
       "    </tr>\n",
       "  </tbody>\n",
       "</table>\n",
       "<p>80910 rows × 9 columns</p>\n",
       "</div>"
      ],
      "text/plain": [
       "            row_id       x       y  accuracy    time    place_id  day  \\\n",
       "112            112  2.2360  1.3655        66  623174  7663031065    8   \n",
       "367            367  2.4108  1.3213        74  579667  6644108708    7   \n",
       "874            874  2.0822  1.1973       320  143566  3229876087    2   \n",
       "1022          1022  2.0160  1.1659        65  207993  3244363975    3   \n",
       "1045          1045  2.3859  1.1660       498  503378  6438240873    6   \n",
       "...            ...     ...     ...       ...     ...         ...  ...   \n",
       "29115112  29115112  2.1889  1.2914       168  721885  4606837364    9   \n",
       "29115204  29115204  2.1193  1.4692        58  563389  2074133146    7   \n",
       "29115338  29115338  2.0007  1.4852        25  765986  6691588909    9   \n",
       "29115464  29115464  2.4132  1.4237        61  151918  7396159924    2   \n",
       "29117493  29117493  2.2948  1.0504        81   79569  1168869217    1   \n",
       "\n",
       "          weekday  hour  \n",
       "112             3     5  \n",
       "367             2    17  \n",
       "874             4    15  \n",
       "1022            5     9  \n",
       "1045            1    19  \n",
       "...           ...   ...  \n",
       "29115112        4     8  \n",
       "29115204        2    12  \n",
       "29115338        4    20  \n",
       "29115464        4    18  \n",
       "29117493        3    22  \n",
       "\n",
       "[80910 rows x 9 columns]"
      ]
     },
     "execution_count": 73,
     "metadata": {},
     "output_type": "execute_result"
    }
   ],
   "source": [
    "# (3)过滤签到次数少的地点\n",
    "place_count = data.groupby(\"place_id\").count()[\"row_id\"]\n",
    "\n",
    "# 选择签到地点大于3次的地点\n",
    "# place_count[place_count > 3]\n",
    "\n",
    "# 选取原数据中的地点\n",
    "# data[data~~~~]意思是Bool索引\n",
    "data[data[\"place_id\"].isin(place_count[place_count > 3].index.values)]"
   ]
  },
  {
   "cell_type": "code",
   "execution_count": 74,
   "metadata": {},
   "outputs": [],
   "source": [
    "# 筛选特征值和目标值\n",
    "\n",
    "x = data[[\"x\", \"y\", \"accuracy\", \"day\", \"weekday\", \"hour\"]]\n",
    "y = data[\"place_id\"]"
   ]
  },
  {
   "cell_type": "code",
   "execution_count": 75,
   "metadata": {},
   "outputs": [],
   "source": [
    "# 数据集划分\n",
    "from sklearn.model_selection import train_test_split"
   ]
  },
  {
   "cell_type": "code",
   "execution_count": 76,
   "metadata": {},
   "outputs": [],
   "source": [
    "x_train, x_test, y_train, y_test = train_test_split(x,y)"
   ]
  },
  {
   "cell_type": "code",
   "execution_count": 77,
   "metadata": {},
   "outputs": [],
   "source": [
    "# 3、特征工程：标准化\n",
    "from sklearn.preprocessing import StandardScaler\n",
    "from sklearn.neighbors import KNeighborsClassifier\n",
    "from sklearn.model_selection import GridSearchCV"
   ]
  },
  {
   "cell_type": "code",
   "execution_count": 78,
   "metadata": {},
   "outputs": [],
   "source": [
    "transfer = StandardScaler()\n",
    "x_train = transfer.fit_transform(x_train)\n",
    "\n",
    "# 当对测试集进行标准化时，因为要与训练集一样的处理，所以无需fit()\n",
    "x_test = transfer.transform(x_test)"
   ]
  },
  {
   "cell_type": "code",
   "execution_count": 79,
   "metadata": {},
   "outputs": [],
   "source": [
    "# 4、 KNN算法预估器\n",
    "estimator = KNeighborsClassifier(n_neighbors=5)"
   ]
  },
  {
   "cell_type": "code",
   "execution_count": 80,
   "metadata": {},
   "outputs": [],
   "source": [
    "# 5、 网格搜索与交叉验证\n",
    "param_dict = {\"n_neighbors\":[3,5,7,9]}\n",
    "estimator = GridSearchCV(estimator, param_grid=param_dict, cv=3)"
   ]
  },
  {
   "cell_type": "code",
   "execution_count": 81,
   "metadata": {},
   "outputs": [
    {
     "name": "stderr",
     "output_type": "stream",
     "text": [
      "/Users/zhangqihao/opt/anaconda3/lib/python3.7/site-packages/sklearn/model_selection/_split.py:657: Warning: The least populated class in y has only 1 members, which is too few. The minimum number of members in any class cannot be less than n_splits=3.\n",
      "  % (min_groups, self.n_splits)), Warning)\n"
     ]
    },
    {
     "data": {
      "text/plain": [
       "GridSearchCV(cv=3, error_score='raise-deprecating',\n",
       "             estimator=KNeighborsClassifier(algorithm='auto', leaf_size=30,\n",
       "                                            metric='minkowski',\n",
       "                                            metric_params=None, n_jobs=None,\n",
       "                                            n_neighbors=5, p=2,\n",
       "                                            weights='uniform'),\n",
       "             iid='warn', n_jobs=None, param_grid={'n_neighbors': [3, 5, 7, 9]},\n",
       "             pre_dispatch='2*n_jobs', refit=True, return_train_score=False,\n",
       "             scoring=None, verbose=0)"
      ]
     },
     "execution_count": 81,
     "metadata": {},
     "output_type": "execute_result"
    }
   ],
   "source": [
    "# 6. KNN fit()\n",
    "estimator.fit(x_train, y_train)"
   ]
  },
  {
   "cell_type": "code",
   "execution_count": 82,
   "metadata": {},
   "outputs": [
    {
     "name": "stdout",
     "output_type": "stream",
     "text": [
      "y_predict:\n",
      " [4861093827 9936666116 6466855273 ... 2494678001 9081742495 6706708436]\n",
      "直接比对真实值和预测值:\n",
      " 7849873      True\n",
      "11930876    False\n",
      "17389925     True\n",
      "11590281     True\n",
      "19481529    False\n",
      "            ...  \n",
      "13568628     True\n",
      "18800539     True\n",
      "27764702    False\n",
      "29084735    False\n",
      "23362925     True\n",
      "Name: place_id, Length: 20800, dtype: bool\n",
      "准确率为:\n",
      " 0.3546634615384615\n",
      "最佳参数：/n {'n_neighbors': 7}\n",
      "最佳结果：/n 0.3241021202942449\n",
      "最佳估计器：/n KNeighborsClassifier(algorithm='auto', leaf_size=30, metric='minkowski',\n",
      "                     metric_params=None, n_jobs=None, n_neighbors=7, p=2,\n",
      "                     weights='uniform')\n",
      "交叉验证结果：/n {'mean_fit_time': array([0.02665567, 0.02709627, 0.02840535, 0.02681295]), 'std_fit_time': array([0.00042173, 0.00059693, 0.00081453, 0.00090985]), 'mean_score_time': array([0.74091236, 0.81891672, 0.89655256, 0.8960851 ]), 'std_score_time': array([0.02615845, 0.03884829, 0.07696012, 0.01698747]), 'param_n_neighbors': masked_array(data=[3, 5, 7, 9],\n",
      "             mask=[False, False, False, False],\n",
      "       fill_value='?',\n",
      "            dtype=object), 'params': [{'n_neighbors': 3}, {'n_neighbors': 5}, {'n_neighbors': 7}, {'n_neighbors': 9}], 'split0_test_score': array([0.30046239, 0.31140411, 0.31309802, 0.30765005]), 'split1_test_score': array([0.31455376, 0.32281742, 0.32660898, 0.32558818]), 'split2_test_score': array([0.3234411 , 0.33365029, 0.3335502 , 0.33314983]), 'mean_test_score': array([0.31246695, 0.32229114, 0.32410212, 0.32173021]), 'std_test_score': array([0.00951055, 0.00910517, 0.00854681, 0.01077356]), 'rank_test_score': array([4, 2, 1, 3], dtype=int32)}\n"
     ]
    }
   ],
   "source": [
    "# 7、模型预估\n",
    "\n",
    "# 方法1:直接比对真实值和预测值\n",
    "y_predict = estimator.predict(x_test)\n",
    "\n",
    "print(\"y_predict:\\n\",y_predict)\n",
    "print(\"直接比对真实值和预测值:\\n\", y_test == y_predict)\n",
    "\n",
    "# 方法2:计算准确率\n",
    "score = estimator.score(x_test, y_test)\n",
    "print(\"准确率为:\\n\",score)\n",
    "\n",
    "# 查看参数\n",
    "\n",
    "print(\"最佳参数：/n\", estimator.best_params_)\n",
    "print(\"最佳结果：/n\", estimator.best_score_)\n",
    "print(\"最佳估计器：/n\", estimator.best_estimator_)\n",
    "print(\"交叉验证结果：/n\", estimator.cv_results_)"
   ]
  }
 ],
 "metadata": {
  "kernelspec": {
   "display_name": "Python 3",
   "language": "python",
   "name": "python3"
  },
  "language_info": {
   "codemirror_mode": {
    "name": "ipython",
    "version": 3
   },
   "file_extension": ".py",
   "mimetype": "text/x-python",
   "name": "python",
   "nbconvert_exporter": "python",
   "pygments_lexer": "ipython3",
   "version": "3.7.4"
  }
 },
 "nbformat": 4,
 "nbformat_minor": 2
}
