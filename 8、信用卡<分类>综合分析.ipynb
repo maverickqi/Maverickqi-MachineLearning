{
 "cells": [
  {
   "cell_type": "code",
   "execution_count": 1,
   "metadata": {},
   "outputs": [],
   "source": [
    "# 1、数据获取\n",
    "import pandas as pd\n",
    "from sklearn.model_selection import learning_curve, train_test_split,GridSearchCV\n",
    "from sklearn.preprocessing import StandardScaler\n",
    "from sklearn.pipeline import Pipeline\n",
    "from sklearn.metrics import accuracy_score\n",
    "from sklearn.ensemble import AdaBoostClassifier\n",
    "from sklearn.svm import SVC\n",
    "from sklearn.tree import DecisionTreeClassifier\n",
    "from sklearn.ensemble import RandomForestClassifier\n",
    "from sklearn.neighbors import KNeighborsClassifier\n",
    "from matplotlib import pyplot as plt\n",
    "import seaborn as sns\n",
    "import warnings\n",
    "warnings.filterwarnings(\"ignore\")\n",
    "\n",
    "data = pd.read_csv('/Users/zhangqihao/Desktop/PYTHON/机器学习/信用卡/UCI_Credit_Card.csv')"
   ]
  },
  {
   "cell_type": "code",
   "execution_count": 2,
   "metadata": {},
   "outputs": [],
   "source": [
    "# 2、数据探索\n",
    "#print(data.shape) # 查看数据集大小\n",
    "#print(data.describe()) # 数据集概览\n",
    "data.drop(['ID'], inplace=True, axis =1) \n",
    "\n",
    "# 目标集\n",
    "# 目标集选择\n",
    "target = data['default.payment.next.month'].values\n",
    "\n",
    "# 特征集\n",
    "# 选择特征\n",
    "columns = data.columns.tolist()\n",
    "# 去除特征中的目标\n",
    "columns.remove('default.payment.next.month')\n",
    "# 特征集选择\n",
    "features = data[columns].values"
   ]
  },
  {
   "cell_type": "code",
   "execution_count": 3,
   "metadata": {},
   "outputs": [],
   "source": [
    "# 4、数据集划分\n",
    "x_train, x_test, y_train, y_test = train_test_split(features, target, test_size=0.30, \n",
    "                                                    stratify = target, random_state = 1)"
   ]
  },
  {
   "cell_type": "code",
   "execution_count": 4,
   "metadata": {},
   "outputs": [],
   "source": [
    "# 5、流程\n",
    "\n",
    "# 构造各种分类器\n",
    "# model\n",
    "classifiers = [\n",
    "    # SVM\n",
    "    SVC(random_state = 1, kernel = 'rbf'),    \n",
    "    # 决策树\n",
    "    DecisionTreeClassifier(random_state = 1, criterion = 'gini'),\n",
    "    # 随机森林\n",
    "    RandomForestClassifier(random_state = 1, criterion = 'gini'),\n",
    "    # KNN\n",
    "    KNeighborsClassifier(metric = 'minkowski'),\n",
    "    # AdaBoost\n",
    "    AdaBoostClassifier(random_state = 1)\n",
    "]\n",
    "\n",
    "# 分类器名称\n",
    "# model_name\n",
    "classifier_names = [\n",
    "            'svc', \n",
    "            'decisiontreeclassifier',\n",
    "            'randomforestclassifier',\n",
    "            'kneighborsclassifier',\n",
    "            'adaboostclassifier'\n",
    "]\n",
    "\n",
    "# 分类器参数\n",
    "# model_param_grid\n",
    "classifier_param_grid = [\n",
    "            {'svc__C':[1], 'svc__gamma':[0.01]},\n",
    "            {'decisiontreeclassifier__max_depth':[6,9,11]},\n",
    "            {'randomforestclassifier__n_estimators':[3,5,6]} ,\n",
    "            {'kneighborsclassifier__n_neighbors':[4,6,8]},\n",
    "            {'adaboostclassifier__n_estimators':[10,50,100]}\n",
    "]"
   ]
  },
  {
   "cell_type": "code",
   "execution_count": 5,
   "metadata": {},
   "outputs": [],
   "source": [
    "# 对具体的分类器进行GridSearchCV参数调优\n",
    "def GridSearchCV_work(pipeline, x_train, x_test, y_train, y_test, param_grid, score = 'accuracy'):\n",
    "    \n",
    "    response = {}\n",
    "    gridsearch = GridSearchCV(estimator = pipeline, param_grid = param_grid, scoring = score)\n",
    "   \n",
    "    # 寻找最优的参数 和最优的准确率分数\n",
    "    search = gridsearch.fit(x_train, y_train)\n",
    "    print(\"GridSearch最优参数：\", search.best_params_)\n",
    "    print(\"GridSearch最优分数： %0.4lf\" %search.best_score_)\n",
    "    y_predict = gridsearch.predict(x_test)\n",
    "    print(\"准确率 %0.4lf\" %accuracy_score(y_test, y_predict))\n",
    "    \n",
    "    response['y_predict'] = y_predict\n",
    "    response['accuracy_score'] = accuracy_score(y_test,y_predict)\n",
    "    return response"
   ]
  },
  {
   "cell_type": "code",
   "execution_count": 6,
   "metadata": {},
   "outputs": [
    {
     "name": "stdout",
     "output_type": "stream",
     "text": [
      "GridSearch最优参数： {'svc__C': 1, 'svc__gamma': 0.01}\n",
      "GridSearch最优分数： 0.8174\n",
      "准确率 0.8172\n",
      "GridSearch最优参数： {'decisiontreeclassifier__max_depth': 6}\n",
      "GridSearch最优分数： 0.8186\n",
      "准确率 0.8113\n",
      "GridSearch最优参数： {'randomforestclassifier__n_estimators': 6}\n",
      "GridSearch最优分数： 0.7998\n",
      "准确率 0.7994\n",
      "GridSearch最优参数： {'kneighborsclassifier__n_neighbors': 8}\n",
      "GridSearch最优分数： 0.8040\n",
      "准确率 0.8036\n",
      "GridSearch最优参数： {'adaboostclassifier__n_estimators': 10}\n",
      "GridSearch最优分数： 0.8187\n",
      "准确率 0.8129\n"
     ]
    }
   ],
   "source": [
    "for model, model_name, model_param_grid in zip(classifiers, classifier_names, classifier_param_grid):\n",
    "    pipeline = Pipeline([\n",
    "            ('scaler', StandardScaler()),\n",
    "            (model_name, model)\n",
    "    ])\n",
    "    result = GridSearchCV_work(pipeline, x_train, x_test, y_train, y_test, model_param_grid , score = 'accuracy')"
   ]
  },
  {
   "cell_type": "code",
   "execution_count": null,
   "metadata": {},
   "outputs": [],
   "source": []
  }
 ],
 "metadata": {
  "kernelspec": {
   "display_name": "Python 3",
   "language": "python",
   "name": "python3"
  },
  "language_info": {
   "codemirror_mode": {
    "name": "ipython",
    "version": 3
   },
   "file_extension": ".py",
   "mimetype": "text/x-python",
   "name": "python",
   "nbconvert_exporter": "python",
   "pygments_lexer": "ipython3",
   "version": "3.7.4"
  }
 },
 "nbformat": 4,
 "nbformat_minor": 2
}
